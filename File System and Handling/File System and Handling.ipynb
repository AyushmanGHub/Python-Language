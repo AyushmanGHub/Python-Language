{
 "cells": [
  {
   "cell_type": "markdown",
   "id": "9a0d8258",
   "metadata": {},
   "source": [
    "<h1><center>File Handling and System</center></h1>"
   ]
  },
  {
   "cell_type": "markdown",
   "id": "6af40ef4",
   "metadata": {},
   "source": [
    "## ----------- Content -----------"
   ]
  },
  {
   "cell_type": "markdown",
   "id": "264cd19d",
   "metadata": {},
   "source": [
    "### Sample Input"
   ]
  },
  {
   "cell_type": "code",
   "execution_count": 29,
   "id": "d564f77e",
   "metadata": {},
   "outputs": [],
   "source": [
    "text = \"\"\"The sky was clear, and the stars twinkled like diamonds.\n",
    "A gentle breeze whispered through the trees.\n",
    "Nighttime had a calm, almost magical quality.\n",
    "Somewhere in the distance, an owl hooted softly.\n",
    "Everything felt peaceful and still.\"\"\"\n",
    "\n",
    "additional_text = \"\"\"The morning sun slowly rose above the hills.\n",
    "Birds began to chirp, welcoming the new day.\n",
    "Light filtered through the leaves, painting patterns on the ground.\"\"\"\n",
    "\n"
   ]
  },
  {
   "cell_type": "code",
   "execution_count": 30,
   "id": "621eae48",
   "metadata": {},
   "outputs": [],
   "source": [
    "with open(\"sample.txt\", \"w\") as file:\n",
    "    file.write(text)"
   ]
  },
  {
   "cell_type": "markdown",
   "id": "3cb2233e",
   "metadata": {},
   "source": [
    "## 1. Opening and Reading Files\n",
    "\n",
    "\n",
    "Python provides built-in functions to open and read files. The `open()` function is used with different modes:\n",
    "- `'r'` - Read (default)\n",
    "- `'rb'` - Read in binary mode\n",
    "\n",
    "You can read file content using:\n",
    "- `read()` — reads the whole file\n",
    "- `readline()` — reads one line at a time\n",
    "- `readlines()` — reads all lines into a list\n"
   ]
  },
  {
   "cell_type": "code",
   "execution_count": 31,
   "id": "ba407230",
   "metadata": {},
   "outputs": [
    {
     "name": "stdout",
     "output_type": "stream",
     "text": [
      "The sky was clear, and the stars twinkled like diamonds.\n",
      "A gentle breeze whispered through the trees.\n",
      "Nighttime had a calm, almost magical quality.\n",
      "Somewhere in the distance, an owl hooted softly.\n",
      "Everything felt peaceful and still.\n"
     ]
    }
   ],
   "source": [
    "\n",
    "# Example: Reading a file\n",
    "with open(\"sample.txt\", \"r\") as file:\n",
    "    content = file.read()\n",
    "    print(content)\n"
   ]
  },
  {
   "cell_type": "code",
   "execution_count": 32,
   "id": "a41e5579",
   "metadata": {},
   "outputs": [
    {
     "name": "stdout",
     "output_type": "stream",
     "text": [
      "The sky was clear, and the stars twinkled like diamonds.\n",
      "A gentle breeze whispered through the trees.\n",
      "Nighttime had a calm, almost magical quality.\n",
      "Somewhere in the distance, an owl hooted softly.\n",
      "Everything felt peaceful and still.\n"
     ]
    }
   ],
   "source": [
    "s = []\n",
    "with open(\"sample.txt\", \"r\") as file:\n",
    "    for line in file:\n",
    "        s.append(line)\n",
    "        print(line.strip())  # strip() removes newline characters\n"
   ]
  },
  {
   "cell_type": "code",
   "execution_count": 33,
   "id": "8624a1f6",
   "metadata": {},
   "outputs": [
    {
     "name": "stdout",
     "output_type": "stream",
     "text": [
      "['The sky was clear, and the stars twinkled like diamonds.\\n', 'A gentle breeze whispered through the trees.\\n', 'Nighttime had a calm, almost magical quality.\\n', 'Somewhere in the distance, an owl hooted softly.\\n', 'Everything felt peaceful and still.']\n"
     ]
    }
   ],
   "source": [
    "\n",
    "# Example: Reading a file\n",
    "with open(\"sample.txt\", \"r\") as file:\n",
    "    content = file.readlines()\n",
    "    print(content)\n"
   ]
  },
  {
   "cell_type": "code",
   "execution_count": 34,
   "id": "d27cddd0",
   "metadata": {},
   "outputs": [
    {
     "name": "stdout",
     "output_type": "stream",
     "text": [
      "The sky was clear, and the stars twinkled like diamonds.\n",
      "\n"
     ]
    }
   ],
   "source": [
    "# Example: Reading a file\n",
    "with open(\"sample.txt\", \"r\") as file:\n",
    "    content = file.readline()\n",
    "    print(content)"
   ]
  },
  {
   "cell_type": "code",
   "execution_count": 35,
   "id": "65bc7f42",
   "metadata": {},
   "outputs": [
    {
     "name": "stdout",
     "output_type": "stream",
     "text": [
      "b'The sky was clear, and the stars twinkled like diamonds.\\r\\n'\n"
     ]
    }
   ],
   "source": [
    "# Example: Reading a file\n",
    "with open(\"sample.txt\", \"rb\") as file:\n",
    "    content = file.readline()\n",
    "    print(content)"
   ]
  },
  {
   "cell_type": "markdown",
   "id": "ab0ebc5a",
   "metadata": {},
   "source": [
    "## 2. Writing and Appending\n",
    "\n",
    "\n",
    "To write to a file, use:\n",
    "- `'w'` mode to overwrite\n",
    "- `'a'` mode to append\n",
    "\n",
    "Use `write()` to write a string or `writelines()` to write a list of lines.\n"
   ]
  },
  {
   "cell_type": "code",
   "execution_count": 36,
   "id": "e847b82b",
   "metadata": {},
   "outputs": [],
   "source": [
    "\n",
    "# Example: Writing to a file\n",
    "with open(\"sample.txt\", \"w\") as file:\n",
    "    file.write(\"This will overwrite existing content.\")\n",
    "\n",
    "# Example: Appending to a file\n",
    "with open(\"sample.txt\", \"a\") as file:\n",
    "    file.write(\"\\nThis will be added to the file.\")\n"
   ]
  },
  {
   "cell_type": "markdown",
   "id": "306b80b8",
   "metadata": {},
   "source": [
    "## 3. Working with Paths\n",
    "\n",
    "\n",
    "Use the `os` or `pathlib` module to handle directories and paths.\n",
    "- `os.makedirs(path, exist_ok=True)` creates a directory\n",
    "- `pathlib.Path(path).exists()` checks if a file or folder exists\n"
   ]
  },
  {
   "cell_type": "code",
   "execution_count": 37,
   "id": "18f6ed9c",
   "metadata": {},
   "outputs": [
    {
     "name": "stdout",
     "output_type": "stream",
     "text": [
      "False\n"
     ]
    }
   ],
   "source": [
    "\n",
    "import os\n",
    "from pathlib import Path\n",
    "\n",
    "# Create a directory\n",
    "os.makedirs(\"texts\", exist_ok=True)\n",
    "\n",
    "# Check if a path exists\n",
    "file_path = Path(\"texts/sample.txt\")\n",
    "print(file_path.exists())\n"
   ]
  },
  {
   "cell_type": "markdown",
   "id": "802876ca",
   "metadata": {},
   "source": [
    "## 4. In-place File Editing\n",
    "\n",
    "\n",
    "Use the `fileinput` module for in-place editing of a file.\n",
    "It allows filtering or modifying file contents line by line.\n",
    "\n",
    "Set `inplace=True` so that the `print()` statements rewrite the file.\n"
   ]
  },
  {
   "cell_type": "code",
   "execution_count": 38,
   "id": "e5d5a370",
   "metadata": {},
   "outputs": [],
   "source": [
    "\n",
    "import fileinput\n",
    "\n",
    "for line in fileinput.input(\"sample.txt\", inplace=True):\n",
    "    if \"owl\" not in line:\n",
    "        print(line, end=\"\")\n"
   ]
  },
  {
   "cell_type": "markdown",
   "id": "1e4d349f",
   "metadata": {},
   "source": [
    "## 5. File Iteration and Filtering\n",
    "\n",
    "\n",
    "You can iterate through a file line by line and apply conditions to filter or process each line.\n",
    "This is memory-efficient for large files.\n"
   ]
  },
  {
   "cell_type": "code",
   "execution_count": 39,
   "id": "af0d4987",
   "metadata": {},
   "outputs": [
    {
     "name": "stdout",
     "output_type": "stream",
     "text": [
      "This will overwrite existing content.\n",
      "This will be added to the file.\n"
     ]
    }
   ],
   "source": [
    "\n",
    "# Example: Skip blank lines\n",
    "with open(\"sample.txt\", \"r\") as file:\n",
    "    for line in file:\n",
    "        if line.strip():\n",
    "            print(line.strip())\n"
   ]
  },
  {
   "cell_type": "markdown",
   "id": "19a788c0",
   "metadata": {},
   "source": [
    "## 6. Working with Different File Types\n",
    "\n",
    "\n",
    "Python provides modules to handle various file formats:\n",
    "- `.csv` — use the `csv` module\n",
    "- `.json` — use the `json` module\n",
    "\n",
    "This allows reading structured data easily.\n"
   ]
  },
  {
   "cell_type": "code",
   "execution_count": 41,
   "id": "c5414dd6",
   "metadata": {},
   "outputs": [],
   "source": [
    "import csv\n",
    "\n",
    "data = [\n",
    "    [\"Name\", \"Age\", \"City\"],\n",
    "    [\"Alice\", \"30\", \"New York\"],\n",
    "    [\"Bob\", \"25\", \"Los Angeles\"],\n",
    "    [\"Charlie\", \"35\", \"Chicago\"]\n",
    "]\n",
    "\n",
    "with open(\"data.csv\", \"w\", newline=\"\") as file:\n",
    "    writer = csv.writer(file)\n",
    "    writer.writerows(data)\n"
   ]
  },
  {
   "cell_type": "code",
   "execution_count": 42,
   "id": "3de453e3",
   "metadata": {},
   "outputs": [],
   "source": [
    "import json\n",
    "\n",
    "data = {\n",
    "    \"people\": [\n",
    "        {\"name\": \"Alice\", \"age\": 30, \"city\": \"New York\"},\n",
    "        {\"name\": \"Bob\", \"age\": 25, \"city\": \"Los Angeles\"},\n",
    "        {\"name\": \"Charlie\", \"age\": 35, \"city\": \"Chicago\"}\n",
    "    ]\n",
    "}\n",
    "\n",
    "with open(\"data.json\", \"w\") as file:\n",
    "    json.dump(data, file, indent=4)\n"
   ]
  },
  {
   "cell_type": "code",
   "execution_count": 46,
   "id": "b85e91d1",
   "metadata": {},
   "outputs": [
    {
     "name": "stdout",
     "output_type": "stream",
     "text": [
      "['Name', 'Age', 'City']\n",
      "['Alice', '30', 'New York']\n",
      "['Bob', '25', 'Los Angeles']\n",
      "['Charlie', '35', 'Chicago']\n",
      " -  -  -  -  -  -  -  -  -  - \n",
      "{'people': [{'name': 'Alice', 'age': 30, 'city': 'New York'}, {'name': 'Bob', 'age': 25, 'city': 'Los Angeles'}, {'name': 'Charlie', 'age': 35, 'city': 'Chicago'}]}\n"
     ]
    }
   ],
   "source": [
    "\n",
    "import csv\n",
    "import json\n",
    "\n",
    "# Reading a CSV file\n",
    "with open(\"data.csv\", \"r\") as file:\n",
    "    reader = csv.reader(file)\n",
    "    for row in reader:\n",
    "        print(row)\n",
    "\n",
    "\n",
    "print(\" - \"*10)\n",
    "# Reading a JSON file\n",
    "with open(\"data.json\", \"r\") as file:\n",
    "    data = json.load(file)\n",
    "    print(data)\n"
   ]
  },
  {
   "cell_type": "markdown",
   "id": "4ce4250d",
   "metadata": {},
   "source": [
    "## 7. Context Managers\n",
    "\n",
    "\n",
    "Using `with open(...)` is a best practice. It ensures the file is automatically closed, even if errors occur.\n",
    "\n",
    "You don’t need to explicitly call `file.close()`.\n"
   ]
  },
  {
   "cell_type": "code",
   "execution_count": null,
   "id": "55efc58f",
   "metadata": {},
   "outputs": [],
   "source": [
    "\n",
    "# Correct way using context manager\n",
    "with open(\"sample.txt\", \"r\") as file:\n",
    "    print(file.read())\n"
   ]
  },
  {
   "cell_type": "markdown",
   "id": "900c4a7d",
   "metadata": {},
   "source": [
    "## 8. Exception Handling\n",
    "\n",
    "\n",
    "Always use `try-except` blocks when doing file operations to gracefully handle errors like:\n",
    "- File not found\n",
    "- Permission denied\n"
   ]
  },
  {
   "cell_type": "code",
   "execution_count": null,
   "id": "abb956f6",
   "metadata": {},
   "outputs": [],
   "source": [
    "\n",
    "try:\n",
    "    with open(\"nonexistent.txt\", \"r\") as file:\n",
    "        print(file.read())\n",
    "except FileNotFoundError:\n",
    "    print(\"File not found.\")\n"
   ]
  },
  {
   "cell_type": "markdown",
   "id": "81e8cde3",
   "metadata": {},
   "source": [
    "## 9. Advanced File Handling Topics\n",
    "\n",
    "\n",
    "Here are some advanced techniques:\n",
    "- Use `tempfile` for temporary files.\n",
    "- Use `os.stat()` or `Path.stat()` to get metadata.\n",
    "- Handle binary files with `'rb'` / `'wb'`.\n"
   ]
  },
  {
   "cell_type": "code",
   "execution_count": null,
   "id": "d70d9da2",
   "metadata": {},
   "outputs": [],
   "source": [
    "\n",
    "import tempfile\n",
    "from pathlib import Path\n",
    "\n",
    "# Create and write to a temporary file\n",
    "with tempfile.NamedTemporaryFile(delete=False) as tmp:\n",
    "    tmp.write(b'Temporary data')\n",
    "    print(\"Temporary file created:\", tmp.name)\n",
    "\n",
    "# Get file size\n",
    "file_path = Path(\"sample.txt\")\n",
    "print(\"File size:\", file_path.stat().st_size, \"bytes\")\n"
   ]
  }
 ],
 "metadata": {
  "kernelspec": {
   "display_name": "base",
   "language": "python",
   "name": "python3"
  },
  "language_info": {
   "codemirror_mode": {
    "name": "ipython",
    "version": 3
   },
   "file_extension": ".py",
   "mimetype": "text/x-python",
   "name": "python",
   "nbconvert_exporter": "python",
   "pygments_lexer": "ipython3",
   "version": "3.12.7"
  }
 },
 "nbformat": 4,
 "nbformat_minor": 5
}
